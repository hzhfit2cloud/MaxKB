{
 "cells": [
  {
   "cell_type": "markdown",
   "metadata": {
    "pycharm": {
     "name": "#%% md\n"
    }
   },
   "source": [
    "# RAG（检索增强）落地企业应用的关键技术：Embedding\n",
    "\n",
    "1. 什么是`vector embedding`\n",
    "2. Sentence BERT\n",
    "3. 如何选取`embedding model`\n",
    "4. https://huggingface.co/spaces/mteb/leaderboard\n",
    "5. 助教微信:huice666\n",
    "6. 田老师微信：13401182883"
   ]
  },
  {
   "cell_type": "markdown",
   "metadata": {
    "editable": true,
    "pycharm": {
     "name": "#%% md\n"
    },
    "slideshow": {
     "slide_type": ""
    },
    "tags": []
   },
   "source": [
    "## 什么是`vector embedding`\n",
    "\n",
    "\n",
    "**案例1：动物园中的动物分类（二维）**\n",
    "\n",
    "想象一下，我们有一个动物园，里面有多种动物。我们想要通过两个简单的特征来区分它们。这些特征可以是：\n",
    "\n",
    "1. **食性**：用数字1表示草食动物，6表示肉食动物，16表示杂食动物。\n",
    "\n",
    "2. **栖息地**：用数字30表示陆地动物，9表示水生动物，19表示两栖动物。\n",
    "\n",
    "\n",
    "现在，我们可以用这三个维度来为动物园中的动物创建一个数字表示：\n",
    "\n",
    "- **狮子**：[6, 30] （肉食动物，陆地动物）\n",
    "- **企鹅**：[1, 9] （草食动物，水生动物）\n",
    "- **蝙蝠**：[16, 30] （杂食动物，陆地动物）\n",
    "- **海豹**：[6, 9] （肉食动物，水生动物）\n",
    "\n",
    "\n",
    "在这个例子中，每个动物都可以通过一个两元组（食性，栖息地）来表示。这些数字可以被想象为两维空间中的坐标，其中每个维度代表一个特征。例如，狮子的坐标可能6(2301,)，企鹅的坐标可能是(19 2)，蝙蝠的坐标可能16(230 1)。\n",
    "\n",
    "在两维空间中，这些坐标点可以帮助我们直观地看到不同动物之间的相似性和差异。例如，狮子和蝙蝠都是肉食动物，所以它们在食性这个维度上是相似的，但在栖息地上有所不同。企鹅则在食性上与狮子和蝙蝠不同，因为它是草食动物，但在栖息地上与狮子相似，都是陆地动物。"
   ]
  },
  {
   "cell_type": "code",
   "execution_count": null,
   "outputs": [],
   "source": [
    "import matplotlib.pyplot as plt\n",
    "import numpy as np\n",
    "plt.rcParams['font.sans-serif'] = ['Kaitt', 'SimHei']\n",
    "plt.rcParams['axes.unicode_minus'] = False\n",
    "\n",
    "# 定义点的坐标和标签\n",
    "points = {\n",
    "    \"狮子\": [6, 30],\n",
    "    \"企鹅\": [1, 9],\n",
    "    \"蝙蝠\": [16, 30],\n",
    "    \"海豹\": [6, 9]\n",
    "}\n",
    "\n",
    "x_values = [point[0] for point in points.values()]\n",
    "y_values = [point[1] for point in points.values()]\n",
    "labels = list(points.keys())\n",
    "\n",
    "plt.figure(figsize=(12, 8))\n",
    "for i, label in enumerate(labels):\n",
    "    plt.scatter(x_values[i], y_values[i], label=label)\n",
    "\n",
    "# 设置X轴和Y轴的范围和精度\n",
    "plt.xlim([0,20])\n",
    "plt.ylim([0,50])\n",
    "plt.xticks(np.arange(0, 20, 1))\n",
    "plt.yticks(np.arange(0, 50, 5))\n",
    "\n",
    "# 添加标签\n",
    "for i, label in enumerate(labels):\n",
    "    plt.annotate(label, (x_values[i], y_values[i]), textcoords=\"offset points\", xytext=(0,10), ha='center')\n",
    "# 设置图表标题和坐标轴标签\n",
    "plt.title(\"embedding\")\n",
    "plt.xlabel(\"食性\")\n",
    "plt.ylabel(\"栖息地\")\n",
    "# 显示图例\n",
    "plt.legend()\n",
    "# 显示图表\n",
    "plt.show()\n"
   ],
   "metadata": {
    "collapsed": false,
    "pycharm": {
     "name": "#%%\n"
    }
   }
  },
  {
   "cell_type": "markdown",
   "source": [
    "\n",
    "**案例2：动物园中的动物分类（增加维度）**\n",
    "\n",
    "想象一下，我们有一个动物园，里面有多种动物。我们想要通过三个简单的特征来区分它们。这些特征可以是：\n",
    "\n",
    "1. **食性**：用数字1表示草食动物，6表示肉食动物，16表示杂食动物。\n",
    "\n",
    "2. **栖息地**：用数字30表示陆地动物，9表示水生动物，19表示两栖动物。\n",
    "\n",
    "3. **活动习性**：用数字5表示夜行性动物，12表示日行性动物，17表示昼夜活动动物。\n",
    "\n",
    "现在，我们可以用这三个维度来为动物园中的动物创建一个数字表示：\n",
    "\n",
    "- **狮子**：[6, 30, 12] （肉食动物，陆地动物，日行性动物）\n",
    "- **企鹅**：[1, 9, 12] （草食动物，水生动物，日行性动物）\n",
    "- **蝙蝠**：[16, 30, 5] （杂食动物，陆地动物，夜活动物）\n",
    "- **长颈鹿**：[1, 30, 12] （草食动物，陆地动物，日行性动物）\n",
    "- **海豹**：61,92,122] 肉食食动物，水生动物，日行性动物）\n",
    "\n",
    "在这个例子中，每个动物都可以通过一个三元组（食性，栖息地，活动习性）来表示。这些数字可以被想象为三维空间中的坐标，其中每个维度代表一个特征。例如，狮子的坐标可能是62,301,1 2)，企鹅的坐标可能是(1,92, 21)，蝙蝠的坐标可能是162,301,53)。。\n",
    "\n",
    "通过这种方式，embedding可以帮助我们捕捉到动物之间的复杂关系，并在需要进行分类或推荐时提供有用的信息。"
   ],
   "metadata": {
    "collapsed": false,
    "pycharm": {
     "name": "#%% md\n"
    }
   }
  },
  {
   "cell_type": "code",
   "execution_count": null,
   "outputs": [],
   "source": [
    "points = {\n",
    "    \"狮子\": [6, 30, 12],\n",
    "    \"企鹅\": [1, 9, 12],\n",
    "    \"蝙蝠\": [16, 30, 5],\n",
    "    \"长颈鹿\": [1, 30, 12],\n",
    "    \"海豹\": [6, 9, 12]\n",
    "}\n",
    "\n",
    "x_coords = [point[0] for point in points.values()]\n",
    "y_coords = [point[1] for point in points.values()]\n",
    "z_coords = [point[2] for point in points.values()]\n",
    "labels = list(points.keys())\n",
    "\n",
    "# 创建图形和三维坐标轴\n",
    "fig = plt.figure(figsize=(16, 14))\n",
    "ax = fig.add_subplot(111, projection='3d')\n",
    "\n",
    "for i, label in enumerate(labels):\n",
    "    ax.scatter(x_coords[i], y_coords[i], z_coords[i], label=label , s=50)\n",
    "\n",
    "# 为每个点添加标签，并设置偏移量\n",
    "for i, label in enumerate(labels):\n",
    "    ax.text(x_coords[i], y_coords[i], z_coords[i], label, fontsize=15, horizontalalignment='left', verticalalignment='bottom')\n",
    "\n",
    "\n",
    "# 设置标签\n",
    "ax.set_xlabel('食性')\n",
    "ax.set_ylabel('栖息地')\n",
    "ax.set_zlabel('活动习性')\n",
    "\n",
    "# 调整视角\n",
    "ax.view_init(elev=25., azim= -15)\n",
    "# 显示图形\n",
    "plt.show()\n"
   ],
   "metadata": {
    "collapsed": false,
    "pycharm": {
     "name": "#%%\n"
    }
   }
  },
  {
   "cell_type": "markdown",
   "source": [
    "# embedding模型选取"
   ],
   "metadata": {
    "collapsed": false,
    "pycharm": {
     "name": "#%% md\n"
    }
   }
  },
  {
   "cell_type": "markdown",
   "source": [
    "## m3e模型"
   ],
   "metadata": {
    "collapsed": false,
    "pycharm": {
     "name": "#%% md\n"
    }
   }
  },
  {
   "cell_type": "code",
   "execution_count": null,
   "outputs": [],
   "source": [
    "pip install -U sentence-transformers"
   ],
   "metadata": {
    "collapsed": false,
    "pycharm": {
     "name": "#%%\n"
    }
   }
  },
  {
   "cell_type": "code",
   "execution_count": null,
   "outputs": [],
   "source": [
    "from sentence_transformers import SentenceTransformer\n",
    "\n",
    "model = SentenceTransformer('moka-ai/m3e-base')\n",
    "\n",
    "#Our sentences we like to encode\n",
    "\n",
    "sentences = [\n",
    "    # 相似性非常高的内容\n",
    "    \"如何保持健康的饮食习惯？\",\n",
    "    \"均衡饮食对健康的重要性\",\n",
    "    \"维持健康体重的饮食建议\",\n",
    "    \"饮食与心脏健康的关系\",\n",
    "    \"健康饮食对预防疾病的作用\",\n",
    "    \"选择营养丰富的食物来促进健康\",\n",
    "    \"定期锻炼与健康饮食的结合\",\n",
    "    \"健康饮食对儿童成长的影响\",\n",
    "    \"科学饮食计划对健康的贡献\",\n",
    "\n",
    "    # 看起来相似，但实际上没有任何关系的干扰数据\n",
    "    \"如何提高工作效率？\",\n",
    "    \"健康饮食与工作表现的关联性\"\n",
    "]\n",
    "\n",
    "#Sentences are encoded by calling model.encode()\n",
    "embeddings = model.encode(sentences)"
   ],
   "metadata": {
    "collapsed": false,
    "pycharm": {
     "name": "#%%\n"
    }
   }
  },
  {
   "cell_type": "code",
   "execution_count": null,
   "outputs": [],
   "source": [
    "len(embeddings)"
   ],
   "metadata": {
    "collapsed": false,
    "pycharm": {
     "name": "#%%\n"
    }
   }
  },
  {
   "cell_type": "code",
   "execution_count": null,
   "outputs": [],
   "source": [
    "embeddings[0]"
   ],
   "metadata": {
    "collapsed": false,
    "pycharm": {
     "name": "#%%\n"
    }
   }
  },
  {
   "cell_type": "code",
   "execution_count": null,
   "outputs": [],
   "source": [
    "len(embeddings[1])"
   ],
   "metadata": {
    "collapsed": false,
    "pycharm": {
     "name": "#%%\n"
    }
   }
  },
  {
   "cell_type": "code",
   "execution_count": null,
   "outputs": [],
   "source": [
    "from sklearn.manifold import TSNE\n",
    "import numpy as np\n",
    "\n",
    "tsne = TSNE(n_components=2 ,  perplexity=5)\n",
    "embeddings_2d = tsne.fit_transform(embeddings)"
   ],
   "metadata": {
    "collapsed": false,
    "pycharm": {
     "name": "#%%\n"
    }
   }
  },
  {
   "cell_type": "code",
   "execution_count": null,
   "outputs": [],
   "source": [
    "import matplotlib.pyplot as plt\n",
    "plt.rcParams['font.sans-serif'] = ['Kaitt', 'SimHei']\n",
    "plt.rcParams['axes.unicode_minus'] = False\n",
    "\n",
    "\n",
    "color_list =  ['black'] * len(embeddings_2d[1:])\n",
    "color_list.insert(0, 'red')\n",
    "\n",
    "plt.scatter(embeddings_2d[:, 0], embeddings_2d[:, 1] , color=color_list )\n",
    "\n",
    "for i in range(len(embeddings_2d)):\n",
    "    plt.text(embeddings_2d[:,0][i], embeddings_2d[:,1][i]+2,  sentences[i] ,color=color_list[i] )\n",
    "\n",
    "# 显示图表\n",
    "plt.show()"
   ],
   "metadata": {
    "collapsed": false,
    "pycharm": {
     "name": "#%%\n"
    }
   }
  },
  {
   "cell_type": "markdown",
   "source": [
    "### bge模型"
   ],
   "metadata": {
    "collapsed": false,
    "pycharm": {
     "name": "#%% md\n"
    }
   }
  },
  {
   "cell_type": "code",
   "execution_count": null,
   "outputs": [],
   "source": [
    "from sentence_transformers import SentenceTransformer\n",
    "\n",
    "model = SentenceTransformer('BAAI/bge-large-zh-v1.5')\n",
    "\n",
    "#Sentences are encoded by calling model.encode()\n",
    "embeddings = model.encode(sentences)"
   ],
   "metadata": {
    "collapsed": false,
    "pycharm": {
     "name": "#%%\n"
    }
   }
  },
  {
   "cell_type": "code",
   "execution_count": null,
   "outputs": [],
   "source": [
    "len(embeddings)"
   ],
   "metadata": {
    "collapsed": false,
    "pycharm": {
     "name": "#%%\n"
    }
   }
  },
  {
   "cell_type": "code",
   "execution_count": null,
   "outputs": [],
   "source": [
    "len(embeddings[0])"
   ],
   "metadata": {
    "collapsed": false,
    "pycharm": {
     "name": "#%%\n"
    }
   }
  },
  {
   "cell_type": "markdown",
   "source": [
    "#### 降维"
   ],
   "metadata": {
    "collapsed": false,
    "pycharm": {
     "name": "#%% md\n"
    }
   }
  },
  {
   "cell_type": "code",
   "execution_count": null,
   "outputs": [],
   "source": [
    "from sklearn.manifold import TSNE\n",
    "import numpy as np\n",
    "\n",
    "tsne = TSNE(n_components=2 ,  perplexity=5)\n",
    "embeddings_2d = tsne.fit_transform(embeddings)\n"
   ],
   "metadata": {
    "collapsed": false,
    "pycharm": {
     "name": "#%%\n"
    }
   }
  },
  {
   "cell_type": "code",
   "execution_count": null,
   "outputs": [],
   "source": [
    "import matplotlib.pyplot as plt\n",
    "plt.rcParams['font.sans-serif'] = ['Kaitt', 'SimHei']\n",
    "plt.rcParams['axes.unicode_minus'] = False\n",
    "\n",
    "\n",
    "color_list =  ['black'] * len(embeddings_2d[1:])\n",
    "color_list.insert(0, 'red')\n",
    "\n",
    "plt.scatter(embeddings_2d[:, 0], embeddings_2d[:, 1] , color=color_list )\n",
    "\n",
    "for i in range(len(embeddings_2d)):\n",
    "    plt.text(embeddings_2d[:,0][i], embeddings_2d[:,1][i]+2,  sentences[i] ,color=color_list[i] )\n",
    "\n",
    "# 显示图表\n",
    "plt.show()"
   ],
   "metadata": {
    "collapsed": false,
    "pycharm": {
     "name": "#%%\n"
    }
   }
  },
  {
   "cell_type": "markdown",
   "source": [
    "## openai text-embedding-ada-002 embedding模型"
   ],
   "metadata": {
    "collapsed": false,
    "pycharm": {
     "name": "#%% md\n"
    }
   }
  },
  {
   "cell_type": "code",
   "execution_count": null,
   "outputs": [],
   "source": [
    "!pip install openai"
   ],
   "metadata": {
    "collapsed": false,
    "pycharm": {
     "name": "#%%\n"
    }
   }
  },
  {
   "cell_type": "code",
   "execution_count": 18,
   "metadata": {},
   "outputs": [
    {
     "name": "stdout",
     "output_type": "stream",
     "text": [
      "Collecting openai\n",
      "  Downloading openai-1.7.0-py3-none-any.whl (224 kB)\n",
      "Requirement already satisfied: typing-extensions<5,>=4.7 in c:\\users\\86134\\desktop\\workspace\\testing\\llm_app_public\\venv\\lib\\site-packages (from openai) (4.9.0)\n",
      "Collecting httpx<1,>=0.23.0\n",
      "  Using cached httpx-0.26.0-py3-none-any.whl (75 kB)\n",
      "Requirement already satisfied: sniffio in c:\\users\\86134\\desktop\\workspace\\testing\\llm_app_public\\venv\\lib\\site-packages (from openai) (1.3.0)\n",
      "Collecting distro<2,>=1.7.0\n",
      "  Using cached distro-1.9.0-py3-none-any.whl (20 kB)\n",
      "Requirement already satisfied: anyio<5,>=3.5.0 in c:\\users\\86134\\desktop\\workspace\\testing\\llm_app_public\\venv\\lib\\site-packages (from openai) (4.2.0)\n",
      "Collecting pydantic<3,>=1.9.0\n",
      "  Using cached pydantic-2.5.3-py3-none-any.whl (381 kB)\n",
      "Requirement already satisfied: tqdm>4 in c:\\users\\86134\\desktop\\workspace\\testing\\llm_app_public\\venv\\lib\\site-packages (from openai) (4.66.1)\n",
      "Requirement already satisfied: idna>=2.8 in c:\\users\\86134\\desktop\\workspace\\testing\\llm_app_public\\venv\\lib\\site-packages (from anyio<5,>=3.5.0->openai) (3.6)\n",
      "Requirement already satisfied: exceptiongroup>=1.0.2 in c:\\users\\86134\\desktop\\workspace\\testing\\llm_app_public\\venv\\lib\\site-packages (from anyio<5,>=3.5.0->openai) (1.2.0)\n",
      "Requirement already satisfied: certifi in c:\\users\\86134\\desktop\\workspace\\testing\\llm_app_public\\venv\\lib\\site-packages (from httpx<1,>=0.23.0->openai) (2023.11.17)\n",
      "Collecting httpcore==1.*\n",
      "  Using cached httpcore-1.0.2-py3-none-any.whl (76 kB)\n",
      "Collecting h11<0.15,>=0.13\n",
      "  Using cached h11-0.14.0-py3-none-any.whl (58 kB)\n",
      "Collecting pydantic-core==2.14.6\n",
      "  Using cached pydantic_core-2.14.6-cp310-none-win_amd64.whl (1.9 MB)\n",
      "Collecting annotated-types>=0.4.0\n",
      "  Using cached annotated_types-0.6.0-py3-none-any.whl (12 kB)\n",
      "Requirement already satisfied: colorama in c:\\users\\86134\\desktop\\workspace\\testing\\llm_app_public\\venv\\lib\\site-packages (from tqdm>4->openai) (0.4.6)\n",
      "Installing collected packages: h11, pydantic-core, httpcore, annotated-types, pydantic, httpx, distro, openai\n",
      "Successfully installed annotated-types-0.6.0 distro-1.9.0 h11-0.14.0 httpcore-1.0.2 httpx-0.26.0 openai-1.7.0 pydantic-2.5.3 pydantic-core-2.14.6\n"
     ]
    },
    {
     "name": "stderr",
     "output_type": "stream",
     "text": [
      "WARNING: You are using pip version 21.3.1; however, version 23.3.2 is available.\n",
      "You should consider upgrading via the 'C:\\Users\\86134\\Desktop\\workspace\\Testing\\llm_app_public\\venv\\Scripts\\python.exe -m pip install --upgrade pip' command.\n"
     ]
    }
   ],
   "source": [
    "!pip install openai"
   ]
  },
  {
   "cell_type": "code",
   "execution_count": 19,
   "metadata": {
    "pycharm": {
     "name": "#%%\n"
    }
   },
   "outputs": [],
   "source": [
    "import openai\n",
    "sentences =['为什么良好的睡眠对健康至关重要?' ,\n",
    "        '良好的睡眠有助于身体修复自身,增强免疫系统',\n",
    "        '在监督学习中，算法经常需要大量的标记数据来进行有效学习',\n",
    "        '睡眠不足可能导致长期健康问题,如心脏病和糖尿病',\n",
    "        '这种学习方法依赖于数据质量和数量',\n",
    "        '它帮助维持正常的新陈代谢和体重控制',\n",
    "        '睡眠对儿童和青少年的大脑发育和成长尤为重要',\n",
    "        '良好的睡眠有助于提高日间的工作效率和注意力',\n",
    "        '监督学习的成功取决于特征选择和算法的选择',\n",
    "        '量子计算机的发展仍处于早期阶段，面临技术和物理挑战',\n",
    "        '量子计算机与传统计算机不同，后者使用二进制位进行计算',\n",
    "        '机器学习使我睡不着觉',\n",
    "]\n",
    "response = openai.Embedding.create(\n",
    "  input=sentences,\n",
    "  model=\"text-embedding-ada-002\",\n",
    ")"
   ]
  },
  {
   "cell_type": "code",
   "execution_count": null,
   "metadata": {},
   "outputs": [],
   "source": [
    "import openai\n",
    "response = openai.Embedding.create(\n",
    "  input=sentences,\n",
    "  model=\"text-embedding-ada-002\",\n",
    ")"
   ]
  },
  {
   "cell_type": "code",
   "execution_count": 16,
   "metadata": {
    "pycharm": {
     "name": "#%%\n"
    }
   },
   "outputs": [],
   "source": [
    "embeddings_openai = [item['embedding'] for item in response['data']]\n",
    "\n",
    "tsne = TSNE(n_components=2 ,  perplexity=5)\n",
    "embeddings_openai_2d = tsne.fit_transform(np.array(embeddings_openai))"
   ]
  },
  {
   "cell_type": "code",
   "execution_count": 17,
   "metadata": {
    "pycharm": {
     "name": "#%%\n"
    }
   },
   "outputs": [
    {
     "data": {
      "text/plain": [
       "12"
      ]
     },
     "execution_count": 17,
     "metadata": {},
     "output_type": "execute_result"
    }
   ],
   "source": [
    "len(embeddings_openai)"
   ]
  },
  {
   "cell_type": "code",
   "execution_count": 18,
   "metadata": {
    "pycharm": {
     "name": "#%%\n"
    }
   },
   "outputs": [
    {
     "data": {
      "text/plain": [
       "1536"
      ]
     },
     "execution_count": 18,
     "metadata": {},
     "output_type": "execute_result"
    }
   ],
   "source": [
    "len(embeddings_openai[0])"
   ]
  },
  {
   "cell_type": "code",
   "execution_count": 21,
   "metadata": {
    "pycharm": {
     "name": "#%%\n"
    }
   },
   "outputs": [
    {
     "data": {
      "image/png": "[encoded data removed]",
      "text/plain": [
       "<Figure size 640x480 with 1 Axes>"
      ]
     },
     "metadata": {},
     "output_type": "display_data"
    }
   ],
   "source": [
    "plt.scatter(embeddings_openai_2d[:, 0], embeddings_openai_2d[:, 1] , color=color_list )\n",
    "\n",
    "for i in range(len(embeddings_openai_2d)):\n",
    "    plt.text(embeddings_openai_2d[:,0][i], embeddings_openai_2d[:,1][i],  sentences[i] ,color=color_list[i] )\n",
    "\n",
    "# 显示图表\n",
    "plt.show()"
   ]
  },
  {
   "cell_type": "code",
   "execution_count": null,
   "metadata": {
    "pycharm": {
     "name": "#%%\n"
    }
   },
   "outputs": [],
   "source": []
  },
  {
   "cell_type": "code",
   "execution_count": null,
   "metadata": {
    "pycharm": {
     "name": "#%%\n"
    }
   },
   "outputs": [],
   "source": []
  },
  {
   "cell_type": "markdown",
   "metadata": {
    "pycharm": {
     "name": "#%% md\n"
    }
   },
   "source": []
  }
 ],
 "metadata": {
  "kernelspec": {
   "display_name": "Python 3 (ipykernel)",
   "language": "python",
   "name": "python3"
  },
  "language_info": {
   "codemirror_mode": {
    "name": "ipython",
    "version": 3
   },
   "file_extension": ".py",
   "mimetype": "text/x-python",
   "name": "python",
   "nbconvert_exporter": "python",
   "pygments_lexer": "ipython3",
   "version": "3.10.0"
  }
 },
 "nbformat": 4,
 "nbformat_minor": 4
}